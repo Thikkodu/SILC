{
  "nbformat": 4,
  "nbformat_minor": 0,
  "metadata": {
    "colab": {
      "provenance": [],
      "authorship_tag": "ABX9TyN0CVUoCHRMr3h0HpoGHWYJ",
      "include_colab_link": true
    },
    "kernelspec": {
      "name": "python3",
      "display_name": "Python 3"
    },
    "language_info": {
      "name": "python"
    }
  },
  "cells": [
    {
      "cell_type": "markdown",
      "metadata": {
        "id": "view-in-github",
        "colab_type": "text"
      },
      "source": [
        "<a href=\"https://colab.research.google.com/github/Thikkodu/SILC/blob/main/Silc_assignment_2_10_2.ipynb\" target=\"_parent\"><img src=\"https://colab.research.google.com/assets/colab-badge.svg\" alt=\"Open In Colab\"/></a>"
      ]
    },
    {
      "cell_type": "code",
      "source": [
        "num_of_books=int(input(\"How many books did you purchase this month?\"))\n",
        "if num_of_books<2:\n",
        "  print(\"You have earned 0 points\")\n",
        "elif num_of_books >=2 and num_of_books <4:\n",
        "  print(\"You have earned 5 points\")\n",
        "elif num_of_books >=4 and num_of_books <6:\n",
        "  print(\"You have earned 15 points\")\n",
        "elif num_of_books >=6 and num_of_books <8:\n",
        "  print(\"You have earned 30 points\")\n",
        "elif num_of_books>=8:\n",
        "  print(\"You have earned 5 points\")\n"
      ],
      "metadata": {
        "id": "yOrr-1POCEVP",
        "colab": {
          "base_uri": "https://localhost:8080/"
        },
        "outputId": "1c709ef1-9ac9-4a49-b784-24025d9b10da"
      },
      "execution_count": 5,
      "outputs": [
        {
          "output_type": "stream",
          "name": "stdout",
          "text": [
            "How many books did you purchase this month?6\n",
            "You have earned 30 points\n"
          ]
        }
      ]
    },
    {
      "cell_type": "markdown",
      "source": [],
      "metadata": {
        "id": "Jv5B9X5aArsv"
      }
    }
  ]
}