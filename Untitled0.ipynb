{
  "nbformat": 4,
  "nbformat_minor": 0,
  "metadata": {
    "colab": {
      "provenance": [],
      "authorship_tag": "ABX9TyPyBOO2MoBR+1yH4KpJsk3I",
      "include_colab_link": true
    },
    "kernelspec": {
      "name": "python3",
      "display_name": "Python 3"
    },
    "language_info": {
      "name": "python"
    }
  },
  "cells": [
    {
      "cell_type": "markdown",
      "metadata": {
        "id": "view-in-github",
        "colab_type": "text"
      },
      "source": [
        "<a href=\"https://colab.research.google.com/github/Thikkodu/SILC/blob/main/Untitled0.ipynb\" target=\"_parent\"><img src=\"https://colab.research.google.com/assets/colab-badge.svg\" alt=\"Open In Colab\"/></a>"
      ]
    },
    {
      "cell_type": "code",
      "execution_count": null,
      "metadata": {
        "id": "UsWIujYskm4D"
      },
      "outputs": [],
      "source": [
        "rows = 5\n",
        "# reverse loop\n",
        "for i in range(rows, 0, -1):\n",
        "    for j in range(0, i):\n",
        "        print(\"*\", end=' ')\n",
        "    print(\"/n\")"
      ]
    }
  ]
}