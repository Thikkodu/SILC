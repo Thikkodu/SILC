{
  "nbformat": 4,
  "nbformat_minor": 0,
  "metadata": {
    "colab": {
      "provenance": [],
      "authorship_tag": "ABX9TyPzHFDC+QR7UEM0iovdO/CD",
      "include_colab_link": true
    },
    "kernelspec": {
      "name": "python3",
      "display_name": "Python 3"
    },
    "language_info": {
      "name": "python"
    }
  },
  "cells": [
    {
      "cell_type": "markdown",
      "metadata": {
        "id": "view-in-github",
        "colab_type": "text"
      },
      "source": [
        "<a href=\"https://colab.research.google.com/github/Thikkodu/SILC/blob/main/Untitled1.ipynb\" target=\"_parent\"><img src=\"https://colab.research.google.com/assets/colab-badge.svg\" alt=\"Open In Colab\"/></a>"
      ]
    },
    {
      "cell_type": "code",
      "execution_count": null,
      "metadata": {
        "id": "b8u6cDUvnfhM"
      },
      "outputs": [],
      "source": [
        "C=6\n",
        "for i in range(0, C, 1):\n",
        "    F=(i*95)+32\n",
        "    print(\"C: \", C, \" F \", F)"
      ]
    },
    {
      "cell_type": "code",
      "source": [
        "speed=int(input())\n",
        "hours=int(input())\n",
        "for i in range(1, hours+1, 1):\n",
        "    print(\"hours  \", i, \"  distance  \", i*speed)\n",
        "    i=i+1"
      ],
      "metadata": {
        "id": "xNiJ8ODhniiz"
      },
      "execution_count": null,
      "outputs": []
    }
  ]
}