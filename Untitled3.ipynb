{
  "nbformat": 4,
  "nbformat_minor": 0,
  "metadata": {
    "colab": {
      "provenance": [],
      "authorship_tag": "ABX9TyM6dvFmX6L7qb5ANdcAAbNo",
      "include_colab_link": true
    },
    "kernelspec": {
      "name": "python3",
      "display_name": "Python 3"
    },
    "language_info": {
      "name": "python"
    }
  },
  "cells": [
    {
      "cell_type": "markdown",
      "metadata": {
        "id": "view-in-github",
        "colab_type": "text"
      },
      "source": [
        "<a href=\"https://colab.research.google.com/github/Thikkodu/SILC/blob/main/Untitled3.ipynb\" target=\"_parent\"><img src=\"https://colab.research.google.com/assets/colab-badge.svg\" alt=\"Open In Colab\"/></a>"
      ]
    },
    {
      "cell_type": "code",
      "execution_count": null,
      "metadata": {
        "colab": {
          "base_uri": "https://localhost:8080/"
        },
        "id": "Vk-v5dN-3FVJ",
        "outputId": "c87c05ad-c67b-4dea-cad1-2bae2992def0"
      },
      "outputs": [
        {
          "output_type": "stream",
          "name": "stdout",
          "text": [
            "How many nickels do you have?5\n",
            "How many quart do you have?1\n",
            "How many dimes do you have?4\n",
            "How many pennies do you have?10\n",
            "You have one dollar, you have won the game\n"
          ]
        }
      ],
      "source": [
        "n=.05\n",
        "q=.25\n",
        "d=.10\n",
        "p=.01\n",
        "nick=int(input(\"How many nickels do you have?\"))\n",
        "quart=int(input(\"How many quart do you have?\"))\n",
        "di=int(input(\"How many dimes do you have?\"))\n",
        "pen=int(input(\"How many pennies do you have?\"))\n",
        "total = nick*n + quart*q + di*d + pen*p\n",
        "if total==1:\n",
        "  print('You have one dollar, you have won the game!')\n",
        "elif total<1 : \n",
        "  print(\"You were so close, your total was \" , total) \n",
        "elif total>1:\n",
        "  print(\"You were a bit too high, your total was \", total)\n",
        "else:\n",
        "  print(\"error try again\")\n",
        "\n",
        "\n"
      ]
    }
  ]
}